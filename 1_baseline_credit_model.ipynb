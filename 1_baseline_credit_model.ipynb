{
 "cells": [
  {
   "cell_type": "markdown",
   "metadata": {
    "deletable": false,
    "editable": false,
    "id": "1_t4V9bnt-hB",
    "nbgrader": {
     "cell_type": "markdown",
     "checksum": "80b5753191e35cc17286f338eb42a313",
     "grade": false,
     "grade_id": "cell-e911fa75d4ae6ea9",
     "locked": true,
     "schema_version": 3,
     "solution": false,
     "task": false
    }
   },
   "source": [
    "# Predicting Customer Creditworthiness with Logistic Regression\n",
    "\n",
    "## Project Overview\n",
    "\n",
    "This project explores a classification model for predicting customer creditworthiness using a real-world-style dataset. The target variable indicates whether a customer's credit is deemed \"good\" or \"bad,\" and I build a machine learning pipeline to automate feature preprocessing and classification using logistic regression.\n",
    "\n",
    "Through this baseline model, I aim to:\n",
    "\n",
    "- Prepare and clean the dataset using standard preprocessing tools.\n",
    "- Create a modeling pipeline with imputation, encoding, and scaling steps.\n",
    "- Evaluate the model’s performance using classification metrics such as accuracy, precision, recall, and F1-score.\n",
    "- Lay the groundwork for further optimization and deep learning enhancements in follow-up analyses.\n"
   ]
  },
  {
   "cell_type": "code",
   "execution_count": 1,
   "metadata": {
    "ExecuteTime": {
     "end_time": "2024-02-01T13:07:07.690460390Z",
     "start_time": "2024-02-01T13:07:07.178665418Z"
    },
    "deletable": false,
    "editable": false,
    "id": "1gbj1gyT16vl",
    "nbgrader": {
     "cell_type": "code",
     "checksum": "735f4f6e3e40334e05620b1fd11eeac4",
     "grade": false,
     "grade_id": "cell-0fcbc57512e78927",
     "locked": true,
     "schema_version": 3,
     "solution": false,
     "task": false
    }
   },
   "outputs": [],
   "source": [
    "import pandas as pd\n",
    "import numpy as np\n",
    "from sklearn import set_config\n",
    "\n",
    "set_config(transform_output=\"pandas\")"
   ]
  },
  {
   "cell_type": "markdown",
   "metadata": {
    "deletable": false,
    "editable": false,
    "id": "JdETeU66gS1E",
    "nbgrader": {
     "cell_type": "markdown",
     "checksum": "1836353e5137cdfed5bb3577cb77b62f",
     "grade": false,
     "grade_id": "cell-8f995c9cdf882820",
     "locked": true,
     "schema_version": 3,
     "solution": false,
     "task": false
    }
   },
   "source": [
    "### Feature Selection\n",
    "\n",
    "To simplify the modeling process and focus on the most informative features, I retained a subset of variables based on their financial relevance, behavioral significance, and potential predictive power.\n",
    "\n",
    "These selected features include:\n",
    "\n",
    "- **Financial indicators**: such as `INCOME`, `SAVINGS`, and `DEBT`\n",
    "- **Transaction-based ratios**: representing spending patterns in categories like `CLOTHING`, `EDUCATION`, `HEALTH`, `GROCERIES`, and `HOUSING`\n",
    "- **Derived financial ratios**: including `R_SAVINGS_INCOME`, `R_DEBT_INCOME`, and `R_DEBT_SAVINGS`\n",
    "- **Categorical variables**: such as `CAT_GAMBLING`, `CAT_DEBT`, `CAT_MORTGAGE`, and others indicating customer characteristics\n",
    "\n",
    "I also retained both `DEFAULT` (the binary classification target) and `CREDIT_SCORE` (a continuous variable used later for regression analysis)."
   ]
  },
  {
   "cell_type": "code",
   "execution_count": null,
   "metadata": {
    "ExecuteTime": {
     "end_time": "2024-02-01T15:52:26.263572836Z",
     "start_time": "2024-02-01T15:52:26.047149750Z"
    },
    "deletable": false,
    "id": "2EZ4PgrhYpcn",
    "nbgrader": {
     "cell_type": "code",
     "checksum": "3416f03882927817c5373de161fb4a59",
     "grade": false,
     "grade_id": "ex1",
     "locked": false,
     "schema_version": 3,
     "solution": true,
     "task": false
    }
   },
   "outputs": [
    {
     "data": {
      "text/html": [
       "<div>\n",
       "<style scoped>\n",
       "    .dataframe tbody tr th:only-of-type {\n",
       "        vertical-align: middle;\n",
       "    }\n",
       "\n",
       "    .dataframe tbody tr th {\n",
       "        vertical-align: top;\n",
       "    }\n",
       "\n",
       "    .dataframe thead th {\n",
       "        text-align: right;\n",
       "    }\n",
       "</style>\n",
       "<table border=\"1\" class=\"dataframe\">\n",
       "  <thead>\n",
       "    <tr style=\"text-align: right;\">\n",
       "      <th></th>\n",
       "      <th>INCOME</th>\n",
       "      <th>SAVINGS</th>\n",
       "      <th>DEBT</th>\n",
       "      <th>T_CLOTHING_12</th>\n",
       "      <th>T_CLOTHING_6</th>\n",
       "      <th>R_CLOTHING</th>\n",
       "      <th>R_CLOTHING_INCOME</th>\n",
       "      <th>R_CLOTHING_SAVINGS</th>\n",
       "      <th>R_CLOTHING_DEBT</th>\n",
       "      <th>T_EDUCATION_12</th>\n",
       "      <th>...</th>\n",
       "      <th>R_HOUSING_SAVINGS</th>\n",
       "      <th>R_HOUSING_DEBT</th>\n",
       "      <th>CAT_GAMBLING</th>\n",
       "      <th>CAT_DEBT</th>\n",
       "      <th>CAT_CREDIT_CARD</th>\n",
       "      <th>CAT_MORTGAGE</th>\n",
       "      <th>CAT_SAVINGS_ACCOUNT</th>\n",
       "      <th>CAT_DEPENDENTS</th>\n",
       "      <th>CREDIT_SCORE</th>\n",
       "      <th>DEFAULT</th>\n",
       "    </tr>\n",
       "  </thead>\n",
       "  <tbody>\n",
       "    <tr>\n",
       "      <th>0</th>\n",
       "      <td>33269</td>\n",
       "      <td>0.0</td>\n",
       "      <td>532304</td>\n",
       "      <td>1889</td>\n",
       "      <td>945</td>\n",
       "      <td>0.5003</td>\n",
       "      <td>0.0568</td>\n",
       "      <td>0.0000</td>\n",
       "      <td>0.0035</td>\n",
       "      <td>0</td>\n",
       "      <td>...</td>\n",
       "      <td>0.0000</td>\n",
       "      <td>0.0056</td>\n",
       "      <td>High</td>\n",
       "      <td>1</td>\n",
       "      <td>0</td>\n",
       "      <td>0</td>\n",
       "      <td>0.0</td>\n",
       "      <td>0</td>\n",
       "      <td>444</td>\n",
       "      <td>1</td>\n",
       "    </tr>\n",
       "    <tr>\n",
       "      <th>1</th>\n",
       "      <td>77158</td>\n",
       "      <td>91187.0</td>\n",
       "      <td>315648</td>\n",
       "      <td>5818</td>\n",
       "      <td>111</td>\n",
       "      <td>0.0191</td>\n",
       "      <td>0.0754</td>\n",
       "      <td>0.0638</td>\n",
       "      <td>0.0184</td>\n",
       "      <td>0</td>\n",
       "      <td>...</td>\n",
       "      <td>0.1792</td>\n",
       "      <td>0.0518</td>\n",
       "      <td>No</td>\n",
       "      <td>1</td>\n",
       "      <td>0</td>\n",
       "      <td>0</td>\n",
       "      <td>1.0</td>\n",
       "      <td>0</td>\n",
       "      <td>625</td>\n",
       "      <td>0</td>\n",
       "    </tr>\n",
       "    <tr>\n",
       "      <th>2</th>\n",
       "      <td>30917</td>\n",
       "      <td>21642.0</td>\n",
       "      <td>534864</td>\n",
       "      <td>1157</td>\n",
       "      <td>860</td>\n",
       "      <td>0.7433</td>\n",
       "      <td>0.0374</td>\n",
       "      <td>0.0535</td>\n",
       "      <td>0.0022</td>\n",
       "      <td>0</td>\n",
       "      <td>...</td>\n",
       "      <td>0.1275</td>\n",
       "      <td>0.0052</td>\n",
       "      <td>High</td>\n",
       "      <td>1</td>\n",
       "      <td>0</td>\n",
       "      <td>0</td>\n",
       "      <td>1.0</td>\n",
       "      <td>0</td>\n",
       "      <td>469</td>\n",
       "      <td>1</td>\n",
       "    </tr>\n",
       "    <tr>\n",
       "      <th>3</th>\n",
       "      <td>80657</td>\n",
       "      <td>64526.0</td>\n",
       "      <td>629125</td>\n",
       "      <td>6857</td>\n",
       "      <td>3686</td>\n",
       "      <td>0.5376</td>\n",
       "      <td>0.0850</td>\n",
       "      <td>0.1063</td>\n",
       "      <td>0.0109</td>\n",
       "      <td>4402</td>\n",
       "      <td>...</td>\n",
       "      <td>0.1956</td>\n",
       "      <td>0.0201</td>\n",
       "      <td>High</td>\n",
       "      <td>1</td>\n",
       "      <td>0</td>\n",
       "      <td>0</td>\n",
       "      <td>1.0</td>\n",
       "      <td>0</td>\n",
       "      <td>559</td>\n",
       "      <td>0</td>\n",
       "    </tr>\n",
       "    <tr>\n",
       "      <th>4</th>\n",
       "      <td>149971</td>\n",
       "      <td>1172498.0</td>\n",
       "      <td>2399531</td>\n",
       "      <td>1978</td>\n",
       "      <td>322</td>\n",
       "      <td>0.1628</td>\n",
       "      <td>0.0132</td>\n",
       "      <td>0.0017</td>\n",
       "      <td>0.0008</td>\n",
       "      <td>0</td>\n",
       "      <td>...</td>\n",
       "      <td>0.0364</td>\n",
       "      <td>0.0178</td>\n",
       "      <td>High</td>\n",
       "      <td>1</td>\n",
       "      <td>1</td>\n",
       "      <td>1</td>\n",
       "      <td>1.0</td>\n",
       "      <td>1</td>\n",
       "      <td>473</td>\n",
       "      <td>0</td>\n",
       "    </tr>\n",
       "  </tbody>\n",
       "</table>\n",
       "<p>5 rows × 41 columns</p>\n",
       "</div>"
      ],
      "text/plain": [
       "   INCOME    SAVINGS     DEBT  T_CLOTHING_12  T_CLOTHING_6  R_CLOTHING  \\\n",
       "0   33269        0.0   532304           1889           945      0.5003   \n",
       "1   77158    91187.0   315648           5818           111      0.0191   \n",
       "2   30917    21642.0   534864           1157           860      0.7433   \n",
       "3   80657    64526.0   629125           6857          3686      0.5376   \n",
       "4  149971  1172498.0  2399531           1978           322      0.1628   \n",
       "\n",
       "   R_CLOTHING_INCOME  R_CLOTHING_SAVINGS  R_CLOTHING_DEBT  T_EDUCATION_12  \\\n",
       "0             0.0568              0.0000           0.0035               0   \n",
       "1             0.0754              0.0638           0.0184               0   \n",
       "2             0.0374              0.0535           0.0022               0   \n",
       "3             0.0850              0.1063           0.0109            4402   \n",
       "4             0.0132              0.0017           0.0008               0   \n",
       "\n",
       "   ...  R_HOUSING_SAVINGS  R_HOUSING_DEBT  CAT_GAMBLING  CAT_DEBT  \\\n",
       "0  ...             0.0000          0.0056          High         1   \n",
       "1  ...             0.1792          0.0518            No         1   \n",
       "2  ...             0.1275          0.0052          High         1   \n",
       "3  ...             0.1956          0.0201          High         1   \n",
       "4  ...             0.0364          0.0178          High         1   \n",
       "\n",
       "   CAT_CREDIT_CARD  CAT_MORTGAGE  CAT_SAVINGS_ACCOUNT  CAT_DEPENDENTS  \\\n",
       "0                0             0                  0.0               0   \n",
       "1                0             0                  1.0               0   \n",
       "2                0             0                  1.0               0   \n",
       "3                0             0                  1.0               0   \n",
       "4                1             1                  1.0               1   \n",
       "\n",
       "   CREDIT_SCORE  DEFAULT  \n",
       "0           444        1  \n",
       "1           625        0  \n",
       "2           469        1  \n",
       "3           559        0  \n",
       "4           473        0  \n",
       "\n",
       "[5 rows x 41 columns]"
      ]
     },
     "execution_count": 2,
     "metadata": {},
     "output_type": "execute_result"
    }
   ],
   "source": [
    "# Load the local dataset\n",
    "df = pd.read_csv(\"data/credit_score.csv\")\n",
    "\n",
    "# Define selected features for modeling\n",
    "selected_columns = [\n",
    "    'INCOME', 'SAVINGS', 'DEBT',\n",
    "    'T_CLOTHING_12', 'T_CLOTHING_6', 'R_CLOTHING', 'R_CLOTHING_INCOME', 'R_CLOTHING_SAVINGS', 'R_CLOTHING_DEBT',\n",
    "    'T_EDUCATION_12', 'T_EDUCATION_6', 'R_EDUCATION', 'R_EDUCATION_INCOME', 'R_EDUCATION_SAVINGS', 'R_EDUCATION_DEBT',\n",
    "    'T_GROCERIES_12', 'T_GROCERIES_6', 'R_GROCERIES', 'R_GROCERIES_INCOME', 'R_GROCERIES_SAVINGS', 'R_GROCERIES_DEBT',\n",
    "    'T_HEALTH_12', 'T_HEALTH_6', 'R_HEALTH', 'R_HEALTH_INCOME', 'R_HEALTH_SAVINGS', 'R_HEALTH_DEBT',\n",
    "    'T_HOUSING_12', 'T_HOUSING_6', 'R_HOUSING', 'R_HOUSING_INCOME', 'R_HOUSING_SAVINGS', 'R_HOUSING_DEBT',\n",
    "    'CAT_GAMBLING', 'CAT_DEBT', 'CAT_CREDIT_CARD', 'CAT_MORTGAGE', 'CAT_SAVINGS_ACCOUNT', 'CAT_DEPENDENTS',\n",
    "    'CREDIT_SCORE', 'DEFAULT'\n",
    "]\n",
    "\n",
    "# Subset the DataFrame\n",
    "df = df[selected_columns]\n",
    "\n",
    "# Preview the cleaned dataset\n",
    "df.head()\n"
   ]
  },
  {
   "cell_type": "markdown",
   "metadata": {
    "deletable": false,
    "editable": false,
    "id": "evERSqB9MPid",
    "nbgrader": {
     "cell_type": "markdown",
     "checksum": "eec2ba12f35299213769e18a1ce88189",
     "grade": false,
     "grade_id": "cell-c7c37aaa2f33b369",
     "locked": true,
     "schema_version": 3,
     "solution": false,
     "task": false
    }
   },
   "source": [
    "### Define Target Variable and Split the Data\n",
    "\n",
    "I defined `DEFAULT` as the target variable for this binary classification task, and used the remaining columns as features. To prepare the data for modeling, I performed a train-test split, allocating 80% of the data for training and 20% for testing, while stratifying the target to preserve class distribution.\n",
    "\n",
    "Although the dataset includes a `CREDIT_SCORE` column, I excluded it from the feature set (`X`) for this classification task because:\n",
    "\n",
    "- It is a **proxy for creditworthiness**, and including it would introduce **target leakage** — artificially improving model performance by providing information that is too closely related to the outcome.\n",
    "- I will use `CREDIT_SCORE` later in the notebook as the **target variable** for a separate regression task (see Section 6).\n",
    "\n",
    "This ensures a clean, independent feature matrix (`X`) and avoids contaminating the classification model."
   ]
  },
  {
   "cell_type": "code",
   "execution_count": 3,
   "metadata": {
    "ExecuteTime": {
     "end_time": "2024-02-01T13:07:07.783069413Z",
     "start_time": "2024-02-01T13:07:07.759560200Z"
    },
    "deletable": false,
    "id": "rnxOTovpEqpu",
    "nbgrader": {
     "cell_type": "code",
     "checksum": "e312a6da82f8c4bc37df98d9182e9662",
     "grade": false,
     "grade_id": "ex2",
     "locked": false,
     "schema_version": 3,
     "solution": true,
     "task": false
    }
   },
   "outputs": [
    {
     "name": "stdout",
     "output_type": "stream",
     "text": [
      "Training set: (800, 39)\n",
      "Test set: (200, 39)\n"
     ]
    }
   ],
   "source": [
    "from sklearn.model_selection import train_test_split\n",
    "\n",
    "# Define features and target\n",
    "X = df.drop(columns=[\"DEFAULT\", \"CREDIT_SCORE\"])\n",
    "y = df[\"DEFAULT\"]\n",
    "\n",
    "# Split into train and test sets\n",
    "X_train, X_test, y_train, y_test = train_test_split(X, y, test_size=0.2, random_state=42, stratify=y)\n",
    "\n",
    "print(f\"Training set: {X_train.shape}\")\n",
    "print(f\"Test set: {X_test.shape}\")"
   ]
  },
  {
   "cell_type": "markdown",
   "metadata": {
    "deletable": false,
    "editable": false,
    "id": "evERSqB9MPid",
    "nbgrader": {
     "cell_type": "markdown",
     "checksum": "4b2c15bb02a5dcd6224718caf9c12bfe",
     "grade": false,
     "grade_id": "cell-c7c37aaa2f33b36",
     "locked": true,
     "schema_version": 3,
     "solution": false,
     "task": false
    }
   },
   "source": [
    "### Encoding the `CAT_GAMBLING` Feature\n",
    "\n",
    "As part of feature preprocessing, I encoded the `CAT_GAMBLING` variable using one-hot encoding. This categorical feature captures the customer's gambling behavior and may provide useful signals for credit risk modeling.\n",
    "\n",
    "To avoid multicollinearity issues, I dropped the first category using the `drop=\"first\"` parameter. The rest of the dataset was left unchanged by setting `remainder=\"passthrough\"` in the transformer. This approach ensures that all other features remain intact and available for modeling."
   ]
  },
  {
   "cell_type": "code",
   "execution_count": 4,
   "metadata": {
    "ExecuteTime": {
     "end_time": "2024-02-01T13:07:07.823032010Z",
     "start_time": "2024-02-01T13:07:07.788330392Z"
    },
    "deletable": false,
    "nbgrader": {
     "cell_type": "code",
     "checksum": "69b315830f2239f6d81c0964227610ff",
     "grade": false,
     "grade_id": "ex3",
     "locked": false,
     "schema_version": 3,
     "solution": true,
     "task": false
    }
   },
   "outputs": [],
   "source": [
    "\n",
    "from sklearn.compose import ColumnTransformer\n",
    "from sklearn.preprocessing import OneHotEncoder\n",
    "\n",
    "# Define the transformer to one-hot encode 'CAT_GAMBLING'.\n",
    "# The parameter drop='first' avoids multicollinearity by removing the first category.\n",
    "transformer = ColumnTransformer(\n",
    "    [('ohe', OneHotEncoder(sparse_output=False, drop='first'), ['CAT_GAMBLING'])],\n",
    "    remainder='passthrough'\n",
    ")"
   ]
  },
  {
   "cell_type": "markdown",
   "metadata": {
    "deletable": false,
    "editable": false,
    "id": "evERSqB9MPid",
    "nbgrader": {
     "cell_type": "markdown",
     "checksum": "ec1fdf8e2a687a7622b5b1999e6867ac",
     "grade": false,
     "grade_id": "cell-c7c37a1aa2f33b36",
     "locked": true,
     "schema_version": 3,
     "solution": false,
     "task": false
    }
   },
   "source": [
    "### Initial Modeling Pipeline with Simplified Preprocessing\n",
    "\n",
    "As a starting point, I created a basic machine learning pipeline to demonstrate the use of sequential preprocessing steps with `Pipeline`.\n",
    "\n",
    "This pipeline includes:\n",
    "- **SimpleImputer** with the `most_frequent` strategy to handle missing values\n",
    "- A previously defined `ColumnTransformer` to one-hot encode `CAT_GAMBLING` while leaving other features unchanged\n",
    "- **StandardScaler** to normalize the features\n",
    "- A **Logistic Regression** model as the final estimator\n",
    "\n",
    "Although simplified, this structure lays the groundwork for a more robust pipeline in the next step."
   ]
  },
  {
   "cell_type": "code",
   "execution_count": 5,
   "metadata": {
    "ExecuteTime": {
     "end_time": "2024-02-01T13:07:07.845561658Z",
     "start_time": "2024-02-01T13:07:07.797615851Z"
    },
    "deletable": false,
    "nbgrader": {
     "cell_type": "code",
     "checksum": "00ef2091bcd0c6ccc4ed66e901f1fff9",
     "grade": false,
     "grade_id": "ex4",
     "locked": false,
     "schema_version": 3,
     "solution": true,
     "task": false
    }
   },
   "outputs": [
    {
     "data": {
      "text/plain": [
       "0.725"
      ]
     },
     "execution_count": 5,
     "metadata": {},
     "output_type": "execute_result"
    }
   ],
   "source": [
    "from sklearn.pipeline import Pipeline\n",
    "from sklearn.impute import SimpleImputer\n",
    "from sklearn.preprocessing import StandardScaler\n",
    "from sklearn.linear_model import LogisticRegression\n",
    "\n",
    "# Define a simplified pipeline using previous transformer (only CAT_GAMBLING)\n",
    "pipe = Pipeline(steps=[\n",
    "    (\"imputer\", SimpleImputer(strategy=\"most_frequent\")),\n",
    "    (\"transformer\", transformer),\n",
    "    (\"scaler\", StandardScaler()),\n",
    "    (\"model\", LogisticRegression())\n",
    "])\n",
    "\n",
    "# Fit the pipeline to the training set\n",
    "pipe.fit(X_train, y_train)\n",
    "\n",
    "# Quick check on test performance\n",
    "pipe.score(X_test, y_test)"
   ]
  },
  {
   "cell_type": "markdown",
   "metadata": {
    "deletable": false,
    "editable": false,
    "id": "evERSqB9MPid",
    "nbgrader": {
     "cell_type": "markdown",
     "checksum": "a83f1c590c436213a4b76b008a4dc95b",
     "grade": false,
     "grade_id": "cell-c7c37a1aa2fjk33b36",
     "locked": true,
     "schema_version": 3,
     "solution": false,
     "task": false
    }
   },
   "source": [
    "### Model Evaluation Metrics\n",
    "\n",
    "After training the model, I evaluated its performance on the test set using common classification metrics:\n",
    "\n",
    "- **Accuracy**: Overall correctness of predictions\n",
    "- **Precision**: Proportion of predicted positives that were correct\n",
    "- **Recall**: Proportion of actual positives that were correctly identified\n",
    "- **F1 Score**: Harmonic mean of precision and recall\n",
    "\n",
    "These metrics provide a more complete view of model performance, especially in the presence of class imbalance."
   ]
  },
  {
   "cell_type": "code",
   "execution_count": 6,
   "metadata": {
    "ExecuteTime": {
     "end_time": "2024-02-01T13:07:08.049899564Z",
     "start_time": "2024-02-01T13:07:07.867937576Z"
    },
    "deletable": false,
    "nbgrader": {
     "cell_type": "code",
     "checksum": "bb47640b2984de2eac9bddf8c8c891c6",
     "grade": false,
     "grade_id": "ex5",
     "locked": false,
     "schema_version": 3,
     "solution": true,
     "task": false
    }
   },
   "outputs": [
    {
     "name": "stdout",
     "output_type": "stream",
     "text": [
      "Accuracy:  0.7250\n",
      "Recall:    0.1930\n",
      "Precision: 0.5500\n",
      "F1 Score:  0.2857\n"
     ]
    }
   ],
   "source": [
    "from sklearn.metrics import accuracy_score, recall_score, precision_score, f1_score\n",
    "\n",
    "# Predict on test set\n",
    "y_pred = pipe.predict(X_test)\n",
    "\n",
    "# Calculate evaluation metrics\n",
    "accuracy = accuracy_score(y_test, y_pred)\n",
    "recall = recall_score(y_test, y_pred)\n",
    "precision = precision_score(y_test, y_pred)\n",
    "f1 = f1_score(y_test, y_pred)\n",
    "\n",
    "# Display results\n",
    "print(f\"Accuracy:  {accuracy:.4f}\")\n",
    "print(f\"Recall:    {recall:.4f}\")\n",
    "print(f\"Precision: {precision:.4f}\")\n",
    "print(f\"F1 Score:  {f1:.4f}\")"
   ]
  },
  {
   "cell_type": "markdown",
   "metadata": {
    "collapsed": false,
    "deletable": false,
    "editable": false,
    "jupyter": {
     "outputs_hidden": false
    },
    "nbgrader": {
     "cell_type": "markdown",
     "checksum": "ce36ef55789cc040f0335d04da3cde03",
     "grade": false,
     "grade_id": "cell-308a96d2ad9e173d",
     "locked": true,
     "schema_version": 3,
     "solution": false,
     "task": false
    }
   },
   "source": [
    "### Feature Importance from Logistic Regression Coefficients\n",
    "\n",
    "Logistic regression is a linear model, which means each input feature is associated with a coefficient that indicates its impact on the prediction. A **positive coefficient** increases the likelihood of default, while a **negative coefficient** reduces it.\n",
    "\n",
    "To visualize feature importance, I extracted the learned weights and plotted them. This helps interpret which features have the strongest influence on the model’s decisions."
   ]
  },
  {
   "cell_type": "code",
   "execution_count": 7,
   "metadata": {
    "ExecuteTime": {
     "end_time": "2024-02-01T13:07:08.383634913Z",
     "start_time": "2024-02-01T13:07:07.942152738Z"
    },
    "deletable": false,
    "editable": false,
    "jupyter": {
     "outputs_hidden": false
    },
    "nbgrader": {
     "cell_type": "code",
     "checksum": "49fb23c493238c2bcc7d2914f42c13bb",
     "grade": false,
     "grade_id": "cell-1ea446adf7521dec",
     "locked": true,
     "schema_version": 3,
     "solution": false,
     "task": false
    }
   },
   "outputs": [
    {
     "data": {
      "application/vnd.plotly.v1+json": {
       "config": {
        "plotlyServerURL": "https://plot.ly"
       },
       "data": [
        {
         "alignmentgroup": "True",
         "hovertemplate": "Feature=%{x}<br>Coefficient=%{y}<extra></extra>",
         "legendgroup": "",
         "marker": {
          "color": "#636efa",
          "pattern": {
           "shape": ""
          }
         },
         "name": "",
         "offsetgroup": "",
         "orientation": "v",
         "showlegend": false,
         "textposition": "auto",
         "type": "bar",
         "x": [
          "remainder__R_GROCERIES_DEBT",
          "remainder__T_GROCERIES_6",
          "remainder__R_HOUSING_SAVINGS",
          "remainder__R_HEALTH_INCOME",
          "remainder__R_EDUCATION_DEBT",
          "remainder__R_CLOTHING_INCOME",
          "remainder__T_EDUCATION_6",
          "remainder__R_CLOTHING_DEBT",
          "remainder__T_EDUCATION_12",
          "remainder__T_HOUSING_6",
          "remainder__T_HOUSING_12",
          "remainder__R_HOUSING",
          "remainder__R_EDUCATION",
          "remainder__T_HEALTH_12",
          "remainder__INCOME",
          "remainder__R_CLOTHING",
          "remainder__T_GROCERIES_12",
          "ohe__CAT_GAMBLING_No",
          "remainder__SAVINGS",
          "remainder__R_HEALTH_DEBT",
          "ohe__CAT_GAMBLING_Low",
          "remainder__R_EDUCATION_SAVINGS",
          "remainder__R_CLOTHING_SAVINGS",
          "remainder__CAT_SAVINGS_ACCOUNT",
          "remainder__T_CLOTHING_12",
          "remainder__T_HEALTH_6",
          "remainder__R_HEALTH_SAVINGS",
          "remainder__R_HEALTH",
          "remainder__R_HOUSING_INCOME",
          "remainder__R_HOUSING_DEBT",
          "remainder__CAT_DEBT",
          "remainder__T_CLOTHING_6",
          "remainder__R_GROCERIES",
          "remainder__R_GROCERIES_SAVINGS",
          "remainder__CAT_CREDIT_CARD",
          "remainder__CAT_MORTGAGE",
          "remainder__CAT_DEPENDENTS",
          "remainder__R_EDUCATION_INCOME",
          "remainder__DEBT",
          "remainder__R_GROCERIES_INCOME"
         ],
         "xaxis": "x",
         "y": [
          -0.5190845953149855,
          -0.3053404827582424,
          -0.23737653730179079,
          -0.2248162849028939,
          -0.22095089114269814,
          -0.18271526787352624,
          -0.15711544641023567,
          -0.1567580674108815,
          -0.14348107487737385,
          -0.1345786192844587,
          -0.13436049336401942,
          -0.11546672953561098,
          -0.07818527166558727,
          -0.07723061521649727,
          -0.07485643047778825,
          -0.06457342359575295,
          -0.05596172721358654,
          -0.016995445492543438,
          -0.01661236048435211,
          -0.016181053788272403,
          0.00427716557082159,
          0.0064267293853313345,
          0.020290753023225465,
          0.03876516950460491,
          0.047065218438173406,
          0.058860056892008863,
          0.06905014128638126,
          0.09505473498928296,
          0.1111892197105579,
          0.12063553129420192,
          0.12548235568697347,
          0.13536998530748512,
          0.13545277364882688,
          0.142534913412461,
          0.17117688855962299,
          0.1713095695943178,
          0.17819468604689812,
          0.22368249847677696,
          0.3025213574546363,
          0.31384397364683114
         ],
         "yaxis": "y"
        }
       ],
       "layout": {
        "barmode": "relative",
        "legend": {
         "tracegroupgap": 0
        },
        "template": {
         "data": {
          "bar": [
           {
            "error_x": {
             "color": "#2a3f5f"
            },
            "error_y": {
             "color": "#2a3f5f"
            },
            "marker": {
             "line": {
              "color": "#E5ECF6",
              "width": 0.5
             },
             "pattern": {
              "fillmode": "overlay",
              "size": 10,
              "solidity": 0.2
             }
            },
            "type": "bar"
           }
          ],
          "barpolar": [
           {
            "marker": {
             "line": {
              "color": "#E5ECF6",
              "width": 0.5
             },
             "pattern": {
              "fillmode": "overlay",
              "size": 10,
              "solidity": 0.2
             }
            },
            "type": "barpolar"
           }
          ],
          "carpet": [
           {
            "aaxis": {
             "endlinecolor": "#2a3f5f",
             "gridcolor": "white",
             "linecolor": "white",
             "minorgridcolor": "white",
             "startlinecolor": "#2a3f5f"
            },
            "baxis": {
             "endlinecolor": "#2a3f5f",
             "gridcolor": "white",
             "linecolor": "white",
             "minorgridcolor": "white",
             "startlinecolor": "#2a3f5f"
            },
            "type": "carpet"
           }
          ],
          "choropleth": [
           {
            "colorbar": {
             "outlinewidth": 0,
             "ticks": ""
            },
            "type": "choropleth"
           }
          ],
          "contour": [
           {
            "colorbar": {
             "outlinewidth": 0,
             "ticks": ""
            },
            "colorscale": [
             [
              0,
              "#0d0887"
             ],
             [
              0.1111111111111111,
              "#46039f"
             ],
             [
              0.2222222222222222,
              "#7201a8"
             ],
             [
              0.3333333333333333,
              "#9c179e"
             ],
             [
              0.4444444444444444,
              "#bd3786"
             ],
             [
              0.5555555555555556,
              "#d8576b"
             ],
             [
              0.6666666666666666,
              "#ed7953"
             ],
             [
              0.7777777777777778,
              "#fb9f3a"
             ],
             [
              0.8888888888888888,
              "#fdca26"
             ],
             [
              1,
              "#f0f921"
             ]
            ],
            "type": "contour"
           }
          ],
          "contourcarpet": [
           {
            "colorbar": {
             "outlinewidth": 0,
             "ticks": ""
            },
            "type": "contourcarpet"
           }
          ],
          "heatmap": [
           {
            "colorbar": {
             "outlinewidth": 0,
             "ticks": ""
            },
            "colorscale": [
             [
              0,
              "#0d0887"
             ],
             [
              0.1111111111111111,
              "#46039f"
             ],
             [
              0.2222222222222222,
              "#7201a8"
             ],
             [
              0.3333333333333333,
              "#9c179e"
             ],
             [
              0.4444444444444444,
              "#bd3786"
             ],
             [
              0.5555555555555556,
              "#d8576b"
             ],
             [
              0.6666666666666666,
              "#ed7953"
             ],
             [
              0.7777777777777778,
              "#fb9f3a"
             ],
             [
              0.8888888888888888,
              "#fdca26"
             ],
             [
              1,
              "#f0f921"
             ]
            ],
            "type": "heatmap"
           }
          ],
          "heatmapgl": [
           {
            "colorbar": {
             "outlinewidth": 0,
             "ticks": ""
            },
            "colorscale": [
             [
              0,
              "#0d0887"
             ],
             [
              0.1111111111111111,
              "#46039f"
             ],
             [
              0.2222222222222222,
              "#7201a8"
             ],
             [
              0.3333333333333333,
              "#9c179e"
             ],
             [
              0.4444444444444444,
              "#bd3786"
             ],
             [
              0.5555555555555556,
              "#d8576b"
             ],
             [
              0.6666666666666666,
              "#ed7953"
             ],
             [
              0.7777777777777778,
              "#fb9f3a"
             ],
             [
              0.8888888888888888,
              "#fdca26"
             ],
             [
              1,
              "#f0f921"
             ]
            ],
            "type": "heatmapgl"
           }
          ],
          "histogram": [
           {
            "marker": {
             "pattern": {
              "fillmode": "overlay",
              "size": 10,
              "solidity": 0.2
             }
            },
            "type": "histogram"
           }
          ],
          "histogram2d": [
           {
            "colorbar": {
             "outlinewidth": 0,
             "ticks": ""
            },
            "colorscale": [
             [
              0,
              "#0d0887"
             ],
             [
              0.1111111111111111,
              "#46039f"
             ],
             [
              0.2222222222222222,
              "#7201a8"
             ],
             [
              0.3333333333333333,
              "#9c179e"
             ],
             [
              0.4444444444444444,
              "#bd3786"
             ],
             [
              0.5555555555555556,
              "#d8576b"
             ],
             [
              0.6666666666666666,
              "#ed7953"
             ],
             [
              0.7777777777777778,
              "#fb9f3a"
             ],
             [
              0.8888888888888888,
              "#fdca26"
             ],
             [
              1,
              "#f0f921"
             ]
            ],
            "type": "histogram2d"
           }
          ],
          "histogram2dcontour": [
           {
            "colorbar": {
             "outlinewidth": 0,
             "ticks": ""
            },
            "colorscale": [
             [
              0,
              "#0d0887"
             ],
             [
              0.1111111111111111,
              "#46039f"
             ],
             [
              0.2222222222222222,
              "#7201a8"
             ],
             [
              0.3333333333333333,
              "#9c179e"
             ],
             [
              0.4444444444444444,
              "#bd3786"
             ],
             [
              0.5555555555555556,
              "#d8576b"
             ],
             [
              0.6666666666666666,
              "#ed7953"
             ],
             [
              0.7777777777777778,
              "#fb9f3a"
             ],
             [
              0.8888888888888888,
              "#fdca26"
             ],
             [
              1,
              "#f0f921"
             ]
            ],
            "type": "histogram2dcontour"
           }
          ],
          "mesh3d": [
           {
            "colorbar": {
             "outlinewidth": 0,
             "ticks": ""
            },
            "type": "mesh3d"
           }
          ],
          "parcoords": [
           {
            "line": {
             "colorbar": {
              "outlinewidth": 0,
              "ticks": ""
             }
            },
            "type": "parcoords"
           }
          ],
          "pie": [
           {
            "automargin": true,
            "type": "pie"
           }
          ],
          "scatter": [
           {
            "fillpattern": {
             "fillmode": "overlay",
             "size": 10,
             "solidity": 0.2
            },
            "type": "scatter"
           }
          ],
          "scatter3d": [
           {
            "line": {
             "colorbar": {
              "outlinewidth": 0,
              "ticks": ""
             }
            },
            "marker": {
             "colorbar": {
              "outlinewidth": 0,
              "ticks": ""
             }
            },
            "type": "scatter3d"
           }
          ],
          "scattercarpet": [
           {
            "marker": {
             "colorbar": {
              "outlinewidth": 0,
              "ticks": ""
             }
            },
            "type": "scattercarpet"
           }
          ],
          "scattergeo": [
           {
            "marker": {
             "colorbar": {
              "outlinewidth": 0,
              "ticks": ""
             }
            },
            "type": "scattergeo"
           }
          ],
          "scattergl": [
           {
            "marker": {
             "colorbar": {
              "outlinewidth": 0,
              "ticks": ""
             }
            },
            "type": "scattergl"
           }
          ],
          "scattermapbox": [
           {
            "marker": {
             "colorbar": {
              "outlinewidth": 0,
              "ticks": ""
             }
            },
            "type": "scattermapbox"
           }
          ],
          "scatterpolar": [
           {
            "marker": {
             "colorbar": {
              "outlinewidth": 0,
              "ticks": ""
             }
            },
            "type": "scatterpolar"
           }
          ],
          "scatterpolargl": [
           {
            "marker": {
             "colorbar": {
              "outlinewidth": 0,
              "ticks": ""
             }
            },
            "type": "scatterpolargl"
           }
          ],
          "scatterternary": [
           {
            "marker": {
             "colorbar": {
              "outlinewidth": 0,
              "ticks": ""
             }
            },
            "type": "scatterternary"
           }
          ],
          "surface": [
           {
            "colorbar": {
             "outlinewidth": 0,
             "ticks": ""
            },
            "colorscale": [
             [
              0,
              "#0d0887"
             ],
             [
              0.1111111111111111,
              "#46039f"
             ],
             [
              0.2222222222222222,
              "#7201a8"
             ],
             [
              0.3333333333333333,
              "#9c179e"
             ],
             [
              0.4444444444444444,
              "#bd3786"
             ],
             [
              0.5555555555555556,
              "#d8576b"
             ],
             [
              0.6666666666666666,
              "#ed7953"
             ],
             [
              0.7777777777777778,
              "#fb9f3a"
             ],
             [
              0.8888888888888888,
              "#fdca26"
             ],
             [
              1,
              "#f0f921"
             ]
            ],
            "type": "surface"
           }
          ],
          "table": [
           {
            "cells": {
             "fill": {
              "color": "#EBF0F8"
             },
             "line": {
              "color": "white"
             }
            },
            "header": {
             "fill": {
              "color": "#C8D4E3"
             },
             "line": {
              "color": "white"
             }
            },
            "type": "table"
           }
          ]
         },
         "layout": {
          "annotationdefaults": {
           "arrowcolor": "#2a3f5f",
           "arrowhead": 0,
           "arrowwidth": 1
          },
          "autotypenumbers": "strict",
          "coloraxis": {
           "colorbar": {
            "outlinewidth": 0,
            "ticks": ""
           }
          },
          "colorscale": {
           "diverging": [
            [
             0,
             "#8e0152"
            ],
            [
             0.1,
             "#c51b7d"
            ],
            [
             0.2,
             "#de77ae"
            ],
            [
             0.3,
             "#f1b6da"
            ],
            [
             0.4,
             "#fde0ef"
            ],
            [
             0.5,
             "#f7f7f7"
            ],
            [
             0.6,
             "#e6f5d0"
            ],
            [
             0.7,
             "#b8e186"
            ],
            [
             0.8,
             "#7fbc41"
            ],
            [
             0.9,
             "#4d9221"
            ],
            [
             1,
             "#276419"
            ]
           ],
           "sequential": [
            [
             0,
             "#0d0887"
            ],
            [
             0.1111111111111111,
             "#46039f"
            ],
            [
             0.2222222222222222,
             "#7201a8"
            ],
            [
             0.3333333333333333,
             "#9c179e"
            ],
            [
             0.4444444444444444,
             "#bd3786"
            ],
            [
             0.5555555555555556,
             "#d8576b"
            ],
            [
             0.6666666666666666,
             "#ed7953"
            ],
            [
             0.7777777777777778,
             "#fb9f3a"
            ],
            [
             0.8888888888888888,
             "#fdca26"
            ],
            [
             1,
             "#f0f921"
            ]
           ],
           "sequentialminus": [
            [
             0,
             "#0d0887"
            ],
            [
             0.1111111111111111,
             "#46039f"
            ],
            [
             0.2222222222222222,
             "#7201a8"
            ],
            [
             0.3333333333333333,
             "#9c179e"
            ],
            [
             0.4444444444444444,
             "#bd3786"
            ],
            [
             0.5555555555555556,
             "#d8576b"
            ],
            [
             0.6666666666666666,
             "#ed7953"
            ],
            [
             0.7777777777777778,
             "#fb9f3a"
            ],
            [
             0.8888888888888888,
             "#fdca26"
            ],
            [
             1,
             "#f0f921"
            ]
           ]
          },
          "colorway": [
           "#636efa",
           "#EF553B",
           "#00cc96",
           "#ab63fa",
           "#FFA15A",
           "#19d3f3",
           "#FF6692",
           "#B6E880",
           "#FF97FF",
           "#FECB52"
          ],
          "font": {
           "color": "#2a3f5f"
          },
          "geo": {
           "bgcolor": "white",
           "lakecolor": "white",
           "landcolor": "#E5ECF6",
           "showlakes": true,
           "showland": true,
           "subunitcolor": "white"
          },
          "hoverlabel": {
           "align": "left"
          },
          "hovermode": "closest",
          "mapbox": {
           "style": "light"
          },
          "paper_bgcolor": "white",
          "plot_bgcolor": "#E5ECF6",
          "polar": {
           "angularaxis": {
            "gridcolor": "white",
            "linecolor": "white",
            "ticks": ""
           },
           "bgcolor": "#E5ECF6",
           "radialaxis": {
            "gridcolor": "white",
            "linecolor": "white",
            "ticks": ""
           }
          },
          "scene": {
           "xaxis": {
            "backgroundcolor": "#E5ECF6",
            "gridcolor": "white",
            "gridwidth": 2,
            "linecolor": "white",
            "showbackground": true,
            "ticks": "",
            "zerolinecolor": "white"
           },
           "yaxis": {
            "backgroundcolor": "#E5ECF6",
            "gridcolor": "white",
            "gridwidth": 2,
            "linecolor": "white",
            "showbackground": true,
            "ticks": "",
            "zerolinecolor": "white"
           },
           "zaxis": {
            "backgroundcolor": "#E5ECF6",
            "gridcolor": "white",
            "gridwidth": 2,
            "linecolor": "white",
            "showbackground": true,
            "ticks": "",
            "zerolinecolor": "white"
           }
          },
          "shapedefaults": {
           "line": {
            "color": "#2a3f5f"
           }
          },
          "ternary": {
           "aaxis": {
            "gridcolor": "white",
            "linecolor": "white",
            "ticks": ""
           },
           "baxis": {
            "gridcolor": "white",
            "linecolor": "white",
            "ticks": ""
           },
           "bgcolor": "#E5ECF6",
           "caxis": {
            "gridcolor": "white",
            "linecolor": "white",
            "ticks": ""
           }
          },
          "title": {
           "x": 0.05
          },
          "xaxis": {
           "automargin": true,
           "gridcolor": "white",
           "linecolor": "white",
           "ticks": "",
           "title": {
            "standoff": 15
           },
           "zerolinecolor": "white",
           "zerolinewidth": 2
          },
          "yaxis": {
           "automargin": true,
           "gridcolor": "white",
           "linecolor": "white",
           "ticks": "",
           "title": {
            "standoff": 15
           },
           "zerolinecolor": "white",
           "zerolinewidth": 2
          }
         }
        },
        "title": {
         "text": "Feature Importance from Logistic Regression"
        },
        "xaxis": {
         "anchor": "y",
         "domain": [
          0,
          1
         ],
         "title": {
          "text": "Feature"
         }
        },
        "yaxis": {
         "anchor": "x",
         "domain": [
          0,
          1
         ],
         "title": {
          "text": "Coefficient"
         }
        }
       }
      }
     },
     "metadata": {},
     "output_type": "display_data"
    }
   ],
   "source": [
    "import plotly.express as px\n",
    "import pandas as pd\n",
    "\n",
    "# Extract model coefficients and feature names\n",
    "coefficients = pd.Series(\n",
    "    pipe[-1].coef_.ravel(),\n",
    "    index=pipe[-1].feature_names_in_\n",
    ").sort_values()\n",
    "\n",
    "# Plot feature importance\n",
    "fig = px.bar(\n",
    "    x=coefficients.index,\n",
    "    y=coefficients.values,\n",
    "    labels={\"x\": \"Feature\", \"y\": \"Coefficient\"},\n",
    "    title=\"Feature Importance from Logistic Regression\"\n",
    ")\n",
    "fig.show()"
   ]
  },
  {
   "cell_type": "markdown",
   "metadata": {
    "deletable": false,
    "editable": false,
    "id": "evERSqB9MPid",
    "nbgrader": {
     "cell_type": "markdown",
     "checksum": "c2f7ad1b9cf813f61405d5fe473b373e",
     "grade": false,
     "grade_id": "cell-c7c37a1aa2fjk33bhj36",
     "locked": true,
     "schema_version": 3,
     "solution": false,
     "task": false
    }
   },
   "source": [
    "### Regression Task: Predicting Customer Credit Score\n",
    "\n",
    "To complement the classification analysis, I trained a regression model to predict the customer's `CREDIT_SCORE` — a numerical indicator of creditworthiness. I reused the same set of features used previously, but adjusted the preprocessing and evaluation steps to suit a regression task.\n",
    "\n",
    "For this model, I used **Lasso regression**, which adds L1 regularization and is useful for automatically selecting the most relevant features by shrinking the coefficients of less informative ones to zero.\n",
    "\n",
    "The pipeline includes:\n",
    "- **Imputation**: Mean strategy for numerical features, most frequent for categorical\n",
    "- **Encoding**: One-hot encoding for categorical variables\n",
    "- **Scaling**: Standardization prior to model training\n",
    "- **Model**: Lasso regression with default regularization strength\n",
    "\n",
    "Model performance was evaluated using:\n",
    "- **Mean Absolute Error (MAE)**\n",
    "- **Mean Squared Error (MSE)**\n",
    "- **R² Score**\n",
    "\n",
    "I also plotted feature importances based on the regression coefficients."
   ]
  },
  {
   "cell_type": "code",
   "execution_count": 9,
   "metadata": {
    "ExecuteTime": {
     "end_time": "2024-02-01T13:07:08.385514342Z",
     "start_time": "2024-02-01T13:07:08.301518287Z"
    },
    "deletable": false,
    "id": "rnxOTovpEqpu",
    "nbgrader": {
     "cell_type": "code",
     "checksum": "6e49a277a4cdf3b558e42bc955121783",
     "grade": true,
     "grade_id": "ex6",
     "locked": false,
     "points": 4,
     "schema_version": 3,
     "solution": true,
     "task": false
    }
   },
   "outputs": [
    {
     "name": "stdout",
     "output_type": "stream",
     "text": [
      "MAE: 30.50\n",
      "MSE: 1928.38\n",
      "R² Score: 0.5354\n"
     ]
    }
   ],
   "source": [
    "from sklearn.linear_model import Lasso\n",
    "from sklearn.metrics import mean_squared_error, mean_absolute_error, r2_score\n",
    "\n",
    "# Define the new regression target\n",
    "y_reg = df[\"CREDIT_SCORE\"]\n",
    "\n",
    "# Train-test split for regression\n",
    "X_train_reg, X_test_reg, y_train_reg, y_test_reg = train_test_split(\n",
    "    X, y_reg, test_size=0.25, random_state=20\n",
    ")\n",
    "\n",
    "# Identify column types\n",
    "categorical_features = X.select_dtypes(include=[\"object\"]).columns.tolist()\n",
    "numerical_features = X.select_dtypes(include=[\"int64\", \"float64\"]).columns.tolist()\n",
    "\n",
    "# Pipelines for each type\n",
    "cat_pipe = Pipeline([\n",
    "    (\"imputer\", SimpleImputer(strategy=\"most_frequent\")),\n",
    "    (\"encoder\", OneHotEncoder(drop=\"first\", handle_unknown=\"ignore\", sparse_output=False))\n",
    "])\n",
    "\n",
    "num_pipe = Pipeline([\n",
    "    (\"imputer\", SimpleImputer(strategy=\"mean\"))\n",
    "])\n",
    "\n",
    "# Combine with ColumnTransformer\n",
    "transformer = ColumnTransformer([\n",
    "    (\"cat\", cat_pipe, categorical_features),\n",
    "    (\"num\", num_pipe, numerical_features)\n",
    "], remainder=\"passthrough\")\n",
    "\n",
    "# Final pipeline with Lasso regression\n",
    "reg_pipeline = Pipeline([\n",
    "    (\"preprocessing\", transformer),\n",
    "    (\"scaler\", StandardScaler()),\n",
    "    (\"lasso\", Lasso(random_state=20))\n",
    "])\n",
    "\n",
    "# Fit model\n",
    "reg_pipeline.fit(X_train_reg, y_train_reg)\n",
    "\n",
    "# Predictions\n",
    "y_pred_reg = reg_pipeline.predict(X_test_reg)\n",
    "\n",
    "# Evaluate performance\n",
    "mse = mean_squared_error(y_test_reg, y_pred_reg)\n",
    "mae = mean_absolute_error(y_test_reg, y_pred_reg)\n",
    "r2 = r2_score(y_test_reg, y_pred_reg)\n",
    "\n",
    "print(f\"MAE: {mae:.2f}\")\n",
    "print(f\"MSE: {mse:.2f}\")\n",
    "print(f\"R² Score: {r2:.4f}\")"
   ]
  },
  {
   "cell_type": "markdown",
   "metadata": {},
   "source": [
    "### Feature Importance in Lasso Regression\n",
    "\n",
    "After training the regression model, I extracted and visualized the feature coefficients from the Lasso regression. These coefficients reflect the contribution of each input feature to the predicted credit score.\n",
    "\n",
    "Due to Lasso's regularization, many coefficients are reduced to zero, effectively eliminating less relevant features and helping improve interpretability. Features with larger absolute values (positive or negative) are more influential in predicting the credit score.\n"
   ]
  },
  {
   "cell_type": "code",
   "execution_count": 11,
   "metadata": {},
   "outputs": [
    {
     "data": {
      "application/vnd.plotly.v1+json": {
       "config": {
        "plotlyServerURL": "https://plot.ly"
       },
       "data": [
        {
         "alignmentgroup": "True",
         "hovertemplate": "Feature=%{x}<br>Coefficient=%{y}<extra></extra>",
         "legendgroup": "",
         "marker": {
          "color": "#636efa",
          "pattern": {
           "shape": ""
          }
         },
         "name": "",
         "offsetgroup": "",
         "orientation": "v",
         "showlegend": false,
         "textposition": "auto",
         "type": "bar",
         "x": [
          "num__DEBT",
          "num__CAT_DEBT",
          "num__R_GROCERIES",
          "num__R_EDUCATION_INCOME",
          "num__R_HEALTH_SAVINGS",
          "num__R_HOUSING_SAVINGS",
          "num__R_GROCERIES_INCOME",
          "num__R_CLOTHING",
          "num__CAT_CREDIT_CARD",
          "num__R_HEALTH",
          "num__T_CLOTHING_6",
          "num__R_GROCERIES_SAVINGS",
          "num__T_HEALTH_12",
          "num__R_HOUSING",
          "num__R_HEALTH_DEBT",
          "num__CAT_MORTGAGE",
          "num__T_HEALTH_6",
          "num__T_GROCERIES_6",
          "num__CAT_DEPENDENTS",
          "num__R_EDUCATION_SAVINGS",
          "num__R_EDUCATION",
          "num__T_CLOTHING_12",
          "num__T_GROCERIES_12",
          "num__R_CLOTHING_INCOME",
          "num__T_HOUSING_6",
          "num__T_EDUCATION_6",
          "num__R_HOUSING_INCOME",
          "num__R_EDUCATION_DEBT",
          "num__R_HOUSING_DEBT",
          "num__R_CLOTHING_DEBT",
          "num__T_HOUSING_12",
          "num__SAVINGS",
          "num__R_GROCERIES_DEBT",
          "cat__CAT_GAMBLING_Low",
          "num__T_EDUCATION_12",
          "num__R_CLOTHING_SAVINGS",
          "num__CAT_SAVINGS_ACCOUNT",
          "cat__CAT_GAMBLING_No",
          "num__R_HEALTH_INCOME",
          "num__INCOME"
         ],
         "xaxis": "x",
         "y": [
          -43.111847102035505,
          -11.818174092936816,
          -10.067155993255616,
          -9.451078155070807,
          -6.4963820927673686,
          -4.728697223116354,
          -4.624042549977833,
          -2.581226218182628,
          -1.472428098250015,
          -1.272812200187048,
          -0.6601238093061669,
          0,
          0,
          0,
          0,
          0,
          0,
          0,
          0,
          0,
          0,
          0,
          0,
          0,
          0.00003704489521942377,
          0.0741215937429394,
          0.3109118763909531,
          1.279651813934653,
          1.5079417455439175,
          2.447874024648386,
          3.4343544573720863,
          3.6877547616302206,
          4.1151380213948645,
          4.64232153535646,
          5.391683734886907,
          6.307438853748251,
          6.733788520469776,
          7.882935887503362,
          9.790726100588682,
          38.13136718896918
         ],
         "yaxis": "y"
        }
       ],
       "layout": {
        "barmode": "relative",
        "legend": {
         "tracegroupgap": 0
        },
        "template": {
         "data": {
          "bar": [
           {
            "error_x": {
             "color": "#2a3f5f"
            },
            "error_y": {
             "color": "#2a3f5f"
            },
            "marker": {
             "line": {
              "color": "#E5ECF6",
              "width": 0.5
             },
             "pattern": {
              "fillmode": "overlay",
              "size": 10,
              "solidity": 0.2
             }
            },
            "type": "bar"
           }
          ],
          "barpolar": [
           {
            "marker": {
             "line": {
              "color": "#E5ECF6",
              "width": 0.5
             },
             "pattern": {
              "fillmode": "overlay",
              "size": 10,
              "solidity": 0.2
             }
            },
            "type": "barpolar"
           }
          ],
          "carpet": [
           {
            "aaxis": {
             "endlinecolor": "#2a3f5f",
             "gridcolor": "white",
             "linecolor": "white",
             "minorgridcolor": "white",
             "startlinecolor": "#2a3f5f"
            },
            "baxis": {
             "endlinecolor": "#2a3f5f",
             "gridcolor": "white",
             "linecolor": "white",
             "minorgridcolor": "white",
             "startlinecolor": "#2a3f5f"
            },
            "type": "carpet"
           }
          ],
          "choropleth": [
           {
            "colorbar": {
             "outlinewidth": 0,
             "ticks": ""
            },
            "type": "choropleth"
           }
          ],
          "contour": [
           {
            "colorbar": {
             "outlinewidth": 0,
             "ticks": ""
            },
            "colorscale": [
             [
              0,
              "#0d0887"
             ],
             [
              0.1111111111111111,
              "#46039f"
             ],
             [
              0.2222222222222222,
              "#7201a8"
             ],
             [
              0.3333333333333333,
              "#9c179e"
             ],
             [
              0.4444444444444444,
              "#bd3786"
             ],
             [
              0.5555555555555556,
              "#d8576b"
             ],
             [
              0.6666666666666666,
              "#ed7953"
             ],
             [
              0.7777777777777778,
              "#fb9f3a"
             ],
             [
              0.8888888888888888,
              "#fdca26"
             ],
             [
              1,
              "#f0f921"
             ]
            ],
            "type": "contour"
           }
          ],
          "contourcarpet": [
           {
            "colorbar": {
             "outlinewidth": 0,
             "ticks": ""
            },
            "type": "contourcarpet"
           }
          ],
          "heatmap": [
           {
            "colorbar": {
             "outlinewidth": 0,
             "ticks": ""
            },
            "colorscale": [
             [
              0,
              "#0d0887"
             ],
             [
              0.1111111111111111,
              "#46039f"
             ],
             [
              0.2222222222222222,
              "#7201a8"
             ],
             [
              0.3333333333333333,
              "#9c179e"
             ],
             [
              0.4444444444444444,
              "#bd3786"
             ],
             [
              0.5555555555555556,
              "#d8576b"
             ],
             [
              0.6666666666666666,
              "#ed7953"
             ],
             [
              0.7777777777777778,
              "#fb9f3a"
             ],
             [
              0.8888888888888888,
              "#fdca26"
             ],
             [
              1,
              "#f0f921"
             ]
            ],
            "type": "heatmap"
           }
          ],
          "heatmapgl": [
           {
            "colorbar": {
             "outlinewidth": 0,
             "ticks": ""
            },
            "colorscale": [
             [
              0,
              "#0d0887"
             ],
             [
              0.1111111111111111,
              "#46039f"
             ],
             [
              0.2222222222222222,
              "#7201a8"
             ],
             [
              0.3333333333333333,
              "#9c179e"
             ],
             [
              0.4444444444444444,
              "#bd3786"
             ],
             [
              0.5555555555555556,
              "#d8576b"
             ],
             [
              0.6666666666666666,
              "#ed7953"
             ],
             [
              0.7777777777777778,
              "#fb9f3a"
             ],
             [
              0.8888888888888888,
              "#fdca26"
             ],
             [
              1,
              "#f0f921"
             ]
            ],
            "type": "heatmapgl"
           }
          ],
          "histogram": [
           {
            "marker": {
             "pattern": {
              "fillmode": "overlay",
              "size": 10,
              "solidity": 0.2
             }
            },
            "type": "histogram"
           }
          ],
          "histogram2d": [
           {
            "colorbar": {
             "outlinewidth": 0,
             "ticks": ""
            },
            "colorscale": [
             [
              0,
              "#0d0887"
             ],
             [
              0.1111111111111111,
              "#46039f"
             ],
             [
              0.2222222222222222,
              "#7201a8"
             ],
             [
              0.3333333333333333,
              "#9c179e"
             ],
             [
              0.4444444444444444,
              "#bd3786"
             ],
             [
              0.5555555555555556,
              "#d8576b"
             ],
             [
              0.6666666666666666,
              "#ed7953"
             ],
             [
              0.7777777777777778,
              "#fb9f3a"
             ],
             [
              0.8888888888888888,
              "#fdca26"
             ],
             [
              1,
              "#f0f921"
             ]
            ],
            "type": "histogram2d"
           }
          ],
          "histogram2dcontour": [
           {
            "colorbar": {
             "outlinewidth": 0,
             "ticks": ""
            },
            "colorscale": [
             [
              0,
              "#0d0887"
             ],
             [
              0.1111111111111111,
              "#46039f"
             ],
             [
              0.2222222222222222,
              "#7201a8"
             ],
             [
              0.3333333333333333,
              "#9c179e"
             ],
             [
              0.4444444444444444,
              "#bd3786"
             ],
             [
              0.5555555555555556,
              "#d8576b"
             ],
             [
              0.6666666666666666,
              "#ed7953"
             ],
             [
              0.7777777777777778,
              "#fb9f3a"
             ],
             [
              0.8888888888888888,
              "#fdca26"
             ],
             [
              1,
              "#f0f921"
             ]
            ],
            "type": "histogram2dcontour"
           }
          ],
          "mesh3d": [
           {
            "colorbar": {
             "outlinewidth": 0,
             "ticks": ""
            },
            "type": "mesh3d"
           }
          ],
          "parcoords": [
           {
            "line": {
             "colorbar": {
              "outlinewidth": 0,
              "ticks": ""
             }
            },
            "type": "parcoords"
           }
          ],
          "pie": [
           {
            "automargin": true,
            "type": "pie"
           }
          ],
          "scatter": [
           {
            "fillpattern": {
             "fillmode": "overlay",
             "size": 10,
             "solidity": 0.2
            },
            "type": "scatter"
           }
          ],
          "scatter3d": [
           {
            "line": {
             "colorbar": {
              "outlinewidth": 0,
              "ticks": ""
             }
            },
            "marker": {
             "colorbar": {
              "outlinewidth": 0,
              "ticks": ""
             }
            },
            "type": "scatter3d"
           }
          ],
          "scattercarpet": [
           {
            "marker": {
             "colorbar": {
              "outlinewidth": 0,
              "ticks": ""
             }
            },
            "type": "scattercarpet"
           }
          ],
          "scattergeo": [
           {
            "marker": {
             "colorbar": {
              "outlinewidth": 0,
              "ticks": ""
             }
            },
            "type": "scattergeo"
           }
          ],
          "scattergl": [
           {
            "marker": {
             "colorbar": {
              "outlinewidth": 0,
              "ticks": ""
             }
            },
            "type": "scattergl"
           }
          ],
          "scattermapbox": [
           {
            "marker": {
             "colorbar": {
              "outlinewidth": 0,
              "ticks": ""
             }
            },
            "type": "scattermapbox"
           }
          ],
          "scatterpolar": [
           {
            "marker": {
             "colorbar": {
              "outlinewidth": 0,
              "ticks": ""
             }
            },
            "type": "scatterpolar"
           }
          ],
          "scatterpolargl": [
           {
            "marker": {
             "colorbar": {
              "outlinewidth": 0,
              "ticks": ""
             }
            },
            "type": "scatterpolargl"
           }
          ],
          "scatterternary": [
           {
            "marker": {
             "colorbar": {
              "outlinewidth": 0,
              "ticks": ""
             }
            },
            "type": "scatterternary"
           }
          ],
          "surface": [
           {
            "colorbar": {
             "outlinewidth": 0,
             "ticks": ""
            },
            "colorscale": [
             [
              0,
              "#0d0887"
             ],
             [
              0.1111111111111111,
              "#46039f"
             ],
             [
              0.2222222222222222,
              "#7201a8"
             ],
             [
              0.3333333333333333,
              "#9c179e"
             ],
             [
              0.4444444444444444,
              "#bd3786"
             ],
             [
              0.5555555555555556,
              "#d8576b"
             ],
             [
              0.6666666666666666,
              "#ed7953"
             ],
             [
              0.7777777777777778,
              "#fb9f3a"
             ],
             [
              0.8888888888888888,
              "#fdca26"
             ],
             [
              1,
              "#f0f921"
             ]
            ],
            "type": "surface"
           }
          ],
          "table": [
           {
            "cells": {
             "fill": {
              "color": "#EBF0F8"
             },
             "line": {
              "color": "white"
             }
            },
            "header": {
             "fill": {
              "color": "#C8D4E3"
             },
             "line": {
              "color": "white"
             }
            },
            "type": "table"
           }
          ]
         },
         "layout": {
          "annotationdefaults": {
           "arrowcolor": "#2a3f5f",
           "arrowhead": 0,
           "arrowwidth": 1
          },
          "autotypenumbers": "strict",
          "coloraxis": {
           "colorbar": {
            "outlinewidth": 0,
            "ticks": ""
           }
          },
          "colorscale": {
           "diverging": [
            [
             0,
             "#8e0152"
            ],
            [
             0.1,
             "#c51b7d"
            ],
            [
             0.2,
             "#de77ae"
            ],
            [
             0.3,
             "#f1b6da"
            ],
            [
             0.4,
             "#fde0ef"
            ],
            [
             0.5,
             "#f7f7f7"
            ],
            [
             0.6,
             "#e6f5d0"
            ],
            [
             0.7,
             "#b8e186"
            ],
            [
             0.8,
             "#7fbc41"
            ],
            [
             0.9,
             "#4d9221"
            ],
            [
             1,
             "#276419"
            ]
           ],
           "sequential": [
            [
             0,
             "#0d0887"
            ],
            [
             0.1111111111111111,
             "#46039f"
            ],
            [
             0.2222222222222222,
             "#7201a8"
            ],
            [
             0.3333333333333333,
             "#9c179e"
            ],
            [
             0.4444444444444444,
             "#bd3786"
            ],
            [
             0.5555555555555556,
             "#d8576b"
            ],
            [
             0.6666666666666666,
             "#ed7953"
            ],
            [
             0.7777777777777778,
             "#fb9f3a"
            ],
            [
             0.8888888888888888,
             "#fdca26"
            ],
            [
             1,
             "#f0f921"
            ]
           ],
           "sequentialminus": [
            [
             0,
             "#0d0887"
            ],
            [
             0.1111111111111111,
             "#46039f"
            ],
            [
             0.2222222222222222,
             "#7201a8"
            ],
            [
             0.3333333333333333,
             "#9c179e"
            ],
            [
             0.4444444444444444,
             "#bd3786"
            ],
            [
             0.5555555555555556,
             "#d8576b"
            ],
            [
             0.6666666666666666,
             "#ed7953"
            ],
            [
             0.7777777777777778,
             "#fb9f3a"
            ],
            [
             0.8888888888888888,
             "#fdca26"
            ],
            [
             1,
             "#f0f921"
            ]
           ]
          },
          "colorway": [
           "#636efa",
           "#EF553B",
           "#00cc96",
           "#ab63fa",
           "#FFA15A",
           "#19d3f3",
           "#FF6692",
           "#B6E880",
           "#FF97FF",
           "#FECB52"
          ],
          "font": {
           "color": "#2a3f5f"
          },
          "geo": {
           "bgcolor": "white",
           "lakecolor": "white",
           "landcolor": "#E5ECF6",
           "showlakes": true,
           "showland": true,
           "subunitcolor": "white"
          },
          "hoverlabel": {
           "align": "left"
          },
          "hovermode": "closest",
          "mapbox": {
           "style": "light"
          },
          "paper_bgcolor": "white",
          "plot_bgcolor": "#E5ECF6",
          "polar": {
           "angularaxis": {
            "gridcolor": "white",
            "linecolor": "white",
            "ticks": ""
           },
           "bgcolor": "#E5ECF6",
           "radialaxis": {
            "gridcolor": "white",
            "linecolor": "white",
            "ticks": ""
           }
          },
          "scene": {
           "xaxis": {
            "backgroundcolor": "#E5ECF6",
            "gridcolor": "white",
            "gridwidth": 2,
            "linecolor": "white",
            "showbackground": true,
            "ticks": "",
            "zerolinecolor": "white"
           },
           "yaxis": {
            "backgroundcolor": "#E5ECF6",
            "gridcolor": "white",
            "gridwidth": 2,
            "linecolor": "white",
            "showbackground": true,
            "ticks": "",
            "zerolinecolor": "white"
           },
           "zaxis": {
            "backgroundcolor": "#E5ECF6",
            "gridcolor": "white",
            "gridwidth": 2,
            "linecolor": "white",
            "showbackground": true,
            "ticks": "",
            "zerolinecolor": "white"
           }
          },
          "shapedefaults": {
           "line": {
            "color": "#2a3f5f"
           }
          },
          "ternary": {
           "aaxis": {
            "gridcolor": "white",
            "linecolor": "white",
            "ticks": ""
           },
           "baxis": {
            "gridcolor": "white",
            "linecolor": "white",
            "ticks": ""
           },
           "bgcolor": "#E5ECF6",
           "caxis": {
            "gridcolor": "white",
            "linecolor": "white",
            "ticks": ""
           }
          },
          "title": {
           "x": 0.05
          },
          "xaxis": {
           "automargin": true,
           "gridcolor": "white",
           "linecolor": "white",
           "ticks": "",
           "title": {
            "standoff": 15
           },
           "zerolinecolor": "white",
           "zerolinewidth": 2
          },
          "yaxis": {
           "automargin": true,
           "gridcolor": "white",
           "linecolor": "white",
           "ticks": "",
           "title": {
            "standoff": 15
           },
           "zerolinecolor": "white",
           "zerolinewidth": 2
          }
         }
        },
        "title": {
         "text": "Feature Importance – Lasso Regression (Regression)"
        },
        "xaxis": {
         "anchor": "y",
         "domain": [
          0,
          1
         ],
         "title": {
          "text": "Feature"
         }
        },
        "yaxis": {
         "anchor": "x",
         "domain": [
          0,
          1
         ],
         "title": {
          "text": "Coefficient"
         }
        }
       }
      }
     },
     "metadata": {},
     "output_type": "display_data"
    }
   ],
   "source": [
    "# Visualize Lasso feature importances\n",
    "import plotly.express as px\n",
    "\n",
    "lasso_coef = pd.Series(\n",
    "    reg_pipeline[-1].coef_.ravel(),\n",
    "    index=reg_pipeline[-1].feature_names_in_\n",
    ").sort_values()\n",
    "\n",
    "fig = px.bar(\n",
    "    x=lasso_coef.index,\n",
    "    y=lasso_coef.values,\n",
    "    labels={\"x\": \"Feature\", \"y\": \"Coefficient\"},\n",
    "    title=\"Feature Importance – Lasso Regression (Regression)\"\n",
    ")\n",
    "fig.show()"
   ]
  },
  {
   "cell_type": "markdown",
   "metadata": {
    "deletable": false,
    "editable": false,
    "nbgrader": {
     "cell_type": "markdown",
     "checksum": "f179848b0a3a94aedd9943464d64bd7a",
     "grade": false,
     "grade_id": "cell-11c606e0de4c0013",
     "locked": true,
     "schema_version": 3,
     "solution": false,
     "task": false
    }
   },
   "source": [
    "### Model Comparison and Interpretability\n",
    "\n",
    "To compare the classification and regression models, I examined the learned coefficients from both `LogisticRegression` and `Lasso`. These weights reflect the relative importance of each feature in determining either the likelihood of default (classification) or the numerical credit score (regression).\n",
    "\n",
    "#### Key Observations:\n",
    "\n",
    "- **Shared influential features**: Certain variables (e.g., `R_HEALTH`, `R_GAMBLING`, `DEBT`) showed significant weight in both models, suggesting they are strong indicators of a customer's credit behavior in general.\n",
    "- **Classification vs. regression signals**: The classification model tends to emphasize **binary risk factors** that signal default (like `CAT_DEBT` or `CAT_MORTGAGE`), whereas the regression model assigns weight to **continuous financial indicators** like `INCOME`, `SAVINGS`, or spending ratios.\n",
    "- **Regularization effect in Lasso**: Several features had zero or near-zero coefficients in the regression model, indicating that Lasso effectively eliminated weak predictors — improving model simplicity and interpretability.\n",
    "- **Direction of impact**: Positive weights in the classification model increase the likelihood of default, while negative coefficients in the regression model reflect factors that are associated with higher credit scores.\n",
    "\n",
    "These differences highlight how each model provides unique insights: classification models help flag risk, while regression models help quantify it."
   ]
  },
  {
   "cell_type": "code",
   "execution_count": 10,
   "metadata": {
    "ExecuteTime": {
     "end_time": "2024-02-01T13:07:08.387350773Z",
     "start_time": "2024-02-01T13:07:08.301701779Z"
    },
    "deletable": false,
    "editable": false,
    "jupyter": {
     "outputs_hidden": false
    },
    "nbgrader": {
     "cell_type": "code",
     "checksum": "70bd98016852f19818623cdc812a0693",
     "grade": false,
     "grade_id": "cell-0841bd57402ebb39",
     "locked": true,
     "schema_version": 3,
     "solution": false,
     "task": false
    }
   },
   "outputs": [
    {
     "data": {
      "application/vnd.plotly.v1+json": {
       "config": {
        "plotlyServerURL": "https://plot.ly"
       },
       "data": [
        {
         "alignmentgroup": "True",
         "hovertemplate": "Feature=%{x}<br>Coefficient=%{y}<extra></extra>",
         "legendgroup": "",
         "marker": {
          "color": "#636efa",
          "pattern": {
           "shape": ""
          }
         },
         "name": "",
         "offsetgroup": "",
         "orientation": "v",
         "showlegend": false,
         "textposition": "auto",
         "type": "bar",
         "x": [
          "remainder__R_GROCERIES_DEBT",
          "remainder__T_GROCERIES_6",
          "remainder__R_HOUSING_SAVINGS",
          "remainder__R_HEALTH_INCOME",
          "remainder__R_EDUCATION_DEBT",
          "remainder__R_CLOTHING_INCOME",
          "remainder__T_EDUCATION_6",
          "remainder__R_CLOTHING_DEBT",
          "remainder__T_EDUCATION_12",
          "remainder__T_HOUSING_6",
          "remainder__T_HOUSING_12",
          "remainder__R_HOUSING",
          "remainder__R_EDUCATION",
          "remainder__T_HEALTH_12",
          "remainder__INCOME",
          "remainder__R_CLOTHING",
          "remainder__T_GROCERIES_12",
          "ohe__CAT_GAMBLING_No",
          "remainder__SAVINGS",
          "remainder__R_HEALTH_DEBT",
          "ohe__CAT_GAMBLING_Low",
          "remainder__R_EDUCATION_SAVINGS",
          "remainder__R_CLOTHING_SAVINGS",
          "remainder__CAT_SAVINGS_ACCOUNT",
          "remainder__T_CLOTHING_12",
          "remainder__T_HEALTH_6",
          "remainder__R_HEALTH_SAVINGS",
          "remainder__R_HEALTH",
          "remainder__R_HOUSING_INCOME",
          "remainder__R_HOUSING_DEBT",
          "remainder__CAT_DEBT",
          "remainder__T_CLOTHING_6",
          "remainder__R_GROCERIES",
          "remainder__R_GROCERIES_SAVINGS",
          "remainder__CAT_CREDIT_CARD",
          "remainder__CAT_MORTGAGE",
          "remainder__CAT_DEPENDENTS",
          "remainder__R_EDUCATION_INCOME",
          "remainder__DEBT",
          "remainder__R_GROCERIES_INCOME"
         ],
         "xaxis": "x",
         "y": [
          -0.5190845953149855,
          -0.3053404827582424,
          -0.23737653730179079,
          -0.2248162849028939,
          -0.22095089114269814,
          -0.18271526787352624,
          -0.15711544641023567,
          -0.1567580674108815,
          -0.14348107487737385,
          -0.1345786192844587,
          -0.13436049336401942,
          -0.11546672953561098,
          -0.07818527166558727,
          -0.07723061521649727,
          -0.07485643047778825,
          -0.06457342359575295,
          -0.05596172721358654,
          -0.016995445492543438,
          -0.01661236048435211,
          -0.016181053788272403,
          0.00427716557082159,
          0.0064267293853313345,
          0.020290753023225465,
          0.03876516950460491,
          0.047065218438173406,
          0.058860056892008863,
          0.06905014128638126,
          0.09505473498928296,
          0.1111892197105579,
          0.12063553129420192,
          0.12548235568697347,
          0.13536998530748512,
          0.13545277364882688,
          0.142534913412461,
          0.17117688855962299,
          0.1713095695943178,
          0.17819468604689812,
          0.22368249847677696,
          0.3025213574546363,
          0.31384397364683114
         ],
         "yaxis": "y"
        }
       ],
       "layout": {
        "barmode": "relative",
        "legend": {
         "tracegroupgap": 0
        },
        "template": {
         "data": {
          "bar": [
           {
            "error_x": {
             "color": "#2a3f5f"
            },
            "error_y": {
             "color": "#2a3f5f"
            },
            "marker": {
             "line": {
              "color": "#E5ECF6",
              "width": 0.5
             },
             "pattern": {
              "fillmode": "overlay",
              "size": 10,
              "solidity": 0.2
             }
            },
            "type": "bar"
           }
          ],
          "barpolar": [
           {
            "marker": {
             "line": {
              "color": "#E5ECF6",
              "width": 0.5
             },
             "pattern": {
              "fillmode": "overlay",
              "size": 10,
              "solidity": 0.2
             }
            },
            "type": "barpolar"
           }
          ],
          "carpet": [
           {
            "aaxis": {
             "endlinecolor": "#2a3f5f",
             "gridcolor": "white",
             "linecolor": "white",
             "minorgridcolor": "white",
             "startlinecolor": "#2a3f5f"
            },
            "baxis": {
             "endlinecolor": "#2a3f5f",
             "gridcolor": "white",
             "linecolor": "white",
             "minorgridcolor": "white",
             "startlinecolor": "#2a3f5f"
            },
            "type": "carpet"
           }
          ],
          "choropleth": [
           {
            "colorbar": {
             "outlinewidth": 0,
             "ticks": ""
            },
            "type": "choropleth"
           }
          ],
          "contour": [
           {
            "colorbar": {
             "outlinewidth": 0,
             "ticks": ""
            },
            "colorscale": [
             [
              0,
              "#0d0887"
             ],
             [
              0.1111111111111111,
              "#46039f"
             ],
             [
              0.2222222222222222,
              "#7201a8"
             ],
             [
              0.3333333333333333,
              "#9c179e"
             ],
             [
              0.4444444444444444,
              "#bd3786"
             ],
             [
              0.5555555555555556,
              "#d8576b"
             ],
             [
              0.6666666666666666,
              "#ed7953"
             ],
             [
              0.7777777777777778,
              "#fb9f3a"
             ],
             [
              0.8888888888888888,
              "#fdca26"
             ],
             [
              1,
              "#f0f921"
             ]
            ],
            "type": "contour"
           }
          ],
          "contourcarpet": [
           {
            "colorbar": {
             "outlinewidth": 0,
             "ticks": ""
            },
            "type": "contourcarpet"
           }
          ],
          "heatmap": [
           {
            "colorbar": {
             "outlinewidth": 0,
             "ticks": ""
            },
            "colorscale": [
             [
              0,
              "#0d0887"
             ],
             [
              0.1111111111111111,
              "#46039f"
             ],
             [
              0.2222222222222222,
              "#7201a8"
             ],
             [
              0.3333333333333333,
              "#9c179e"
             ],
             [
              0.4444444444444444,
              "#bd3786"
             ],
             [
              0.5555555555555556,
              "#d8576b"
             ],
             [
              0.6666666666666666,
              "#ed7953"
             ],
             [
              0.7777777777777778,
              "#fb9f3a"
             ],
             [
              0.8888888888888888,
              "#fdca26"
             ],
             [
              1,
              "#f0f921"
             ]
            ],
            "type": "heatmap"
           }
          ],
          "heatmapgl": [
           {
            "colorbar": {
             "outlinewidth": 0,
             "ticks": ""
            },
            "colorscale": [
             [
              0,
              "#0d0887"
             ],
             [
              0.1111111111111111,
              "#46039f"
             ],
             [
              0.2222222222222222,
              "#7201a8"
             ],
             [
              0.3333333333333333,
              "#9c179e"
             ],
             [
              0.4444444444444444,
              "#bd3786"
             ],
             [
              0.5555555555555556,
              "#d8576b"
             ],
             [
              0.6666666666666666,
              "#ed7953"
             ],
             [
              0.7777777777777778,
              "#fb9f3a"
             ],
             [
              0.8888888888888888,
              "#fdca26"
             ],
             [
              1,
              "#f0f921"
             ]
            ],
            "type": "heatmapgl"
           }
          ],
          "histogram": [
           {
            "marker": {
             "pattern": {
              "fillmode": "overlay",
              "size": 10,
              "solidity": 0.2
             }
            },
            "type": "histogram"
           }
          ],
          "histogram2d": [
           {
            "colorbar": {
             "outlinewidth": 0,
             "ticks": ""
            },
            "colorscale": [
             [
              0,
              "#0d0887"
             ],
             [
              0.1111111111111111,
              "#46039f"
             ],
             [
              0.2222222222222222,
              "#7201a8"
             ],
             [
              0.3333333333333333,
              "#9c179e"
             ],
             [
              0.4444444444444444,
              "#bd3786"
             ],
             [
              0.5555555555555556,
              "#d8576b"
             ],
             [
              0.6666666666666666,
              "#ed7953"
             ],
             [
              0.7777777777777778,
              "#fb9f3a"
             ],
             [
              0.8888888888888888,
              "#fdca26"
             ],
             [
              1,
              "#f0f921"
             ]
            ],
            "type": "histogram2d"
           }
          ],
          "histogram2dcontour": [
           {
            "colorbar": {
             "outlinewidth": 0,
             "ticks": ""
            },
            "colorscale": [
             [
              0,
              "#0d0887"
             ],
             [
              0.1111111111111111,
              "#46039f"
             ],
             [
              0.2222222222222222,
              "#7201a8"
             ],
             [
              0.3333333333333333,
              "#9c179e"
             ],
             [
              0.4444444444444444,
              "#bd3786"
             ],
             [
              0.5555555555555556,
              "#d8576b"
             ],
             [
              0.6666666666666666,
              "#ed7953"
             ],
             [
              0.7777777777777778,
              "#fb9f3a"
             ],
             [
              0.8888888888888888,
              "#fdca26"
             ],
             [
              1,
              "#f0f921"
             ]
            ],
            "type": "histogram2dcontour"
           }
          ],
          "mesh3d": [
           {
            "colorbar": {
             "outlinewidth": 0,
             "ticks": ""
            },
            "type": "mesh3d"
           }
          ],
          "parcoords": [
           {
            "line": {
             "colorbar": {
              "outlinewidth": 0,
              "ticks": ""
             }
            },
            "type": "parcoords"
           }
          ],
          "pie": [
           {
            "automargin": true,
            "type": "pie"
           }
          ],
          "scatter": [
           {
            "fillpattern": {
             "fillmode": "overlay",
             "size": 10,
             "solidity": 0.2
            },
            "type": "scatter"
           }
          ],
          "scatter3d": [
           {
            "line": {
             "colorbar": {
              "outlinewidth": 0,
              "ticks": ""
             }
            },
            "marker": {
             "colorbar": {
              "outlinewidth": 0,
              "ticks": ""
             }
            },
            "type": "scatter3d"
           }
          ],
          "scattercarpet": [
           {
            "marker": {
             "colorbar": {
              "outlinewidth": 0,
              "ticks": ""
             }
            },
            "type": "scattercarpet"
           }
          ],
          "scattergeo": [
           {
            "marker": {
             "colorbar": {
              "outlinewidth": 0,
              "ticks": ""
             }
            },
            "type": "scattergeo"
           }
          ],
          "scattergl": [
           {
            "marker": {
             "colorbar": {
              "outlinewidth": 0,
              "ticks": ""
             }
            },
            "type": "scattergl"
           }
          ],
          "scattermapbox": [
           {
            "marker": {
             "colorbar": {
              "outlinewidth": 0,
              "ticks": ""
             }
            },
            "type": "scattermapbox"
           }
          ],
          "scatterpolar": [
           {
            "marker": {
             "colorbar": {
              "outlinewidth": 0,
              "ticks": ""
             }
            },
            "type": "scatterpolar"
           }
          ],
          "scatterpolargl": [
           {
            "marker": {
             "colorbar": {
              "outlinewidth": 0,
              "ticks": ""
             }
            },
            "type": "scatterpolargl"
           }
          ],
          "scatterternary": [
           {
            "marker": {
             "colorbar": {
              "outlinewidth": 0,
              "ticks": ""
             }
            },
            "type": "scatterternary"
           }
          ],
          "surface": [
           {
            "colorbar": {
             "outlinewidth": 0,
             "ticks": ""
            },
            "colorscale": [
             [
              0,
              "#0d0887"
             ],
             [
              0.1111111111111111,
              "#46039f"
             ],
             [
              0.2222222222222222,
              "#7201a8"
             ],
             [
              0.3333333333333333,
              "#9c179e"
             ],
             [
              0.4444444444444444,
              "#bd3786"
             ],
             [
              0.5555555555555556,
              "#d8576b"
             ],
             [
              0.6666666666666666,
              "#ed7953"
             ],
             [
              0.7777777777777778,
              "#fb9f3a"
             ],
             [
              0.8888888888888888,
              "#fdca26"
             ],
             [
              1,
              "#f0f921"
             ]
            ],
            "type": "surface"
           }
          ],
          "table": [
           {
            "cells": {
             "fill": {
              "color": "#EBF0F8"
             },
             "line": {
              "color": "white"
             }
            },
            "header": {
             "fill": {
              "color": "#C8D4E3"
             },
             "line": {
              "color": "white"
             }
            },
            "type": "table"
           }
          ]
         },
         "layout": {
          "annotationdefaults": {
           "arrowcolor": "#2a3f5f",
           "arrowhead": 0,
           "arrowwidth": 1
          },
          "autotypenumbers": "strict",
          "coloraxis": {
           "colorbar": {
            "outlinewidth": 0,
            "ticks": ""
           }
          },
          "colorscale": {
           "diverging": [
            [
             0,
             "#8e0152"
            ],
            [
             0.1,
             "#c51b7d"
            ],
            [
             0.2,
             "#de77ae"
            ],
            [
             0.3,
             "#f1b6da"
            ],
            [
             0.4,
             "#fde0ef"
            ],
            [
             0.5,
             "#f7f7f7"
            ],
            [
             0.6,
             "#e6f5d0"
            ],
            [
             0.7,
             "#b8e186"
            ],
            [
             0.8,
             "#7fbc41"
            ],
            [
             0.9,
             "#4d9221"
            ],
            [
             1,
             "#276419"
            ]
           ],
           "sequential": [
            [
             0,
             "#0d0887"
            ],
            [
             0.1111111111111111,
             "#46039f"
            ],
            [
             0.2222222222222222,
             "#7201a8"
            ],
            [
             0.3333333333333333,
             "#9c179e"
            ],
            [
             0.4444444444444444,
             "#bd3786"
            ],
            [
             0.5555555555555556,
             "#d8576b"
            ],
            [
             0.6666666666666666,
             "#ed7953"
            ],
            [
             0.7777777777777778,
             "#fb9f3a"
            ],
            [
             0.8888888888888888,
             "#fdca26"
            ],
            [
             1,
             "#f0f921"
            ]
           ],
           "sequentialminus": [
            [
             0,
             "#0d0887"
            ],
            [
             0.1111111111111111,
             "#46039f"
            ],
            [
             0.2222222222222222,
             "#7201a8"
            ],
            [
             0.3333333333333333,
             "#9c179e"
            ],
            [
             0.4444444444444444,
             "#bd3786"
            ],
            [
             0.5555555555555556,
             "#d8576b"
            ],
            [
             0.6666666666666666,
             "#ed7953"
            ],
            [
             0.7777777777777778,
             "#fb9f3a"
            ],
            [
             0.8888888888888888,
             "#fdca26"
            ],
            [
             1,
             "#f0f921"
            ]
           ]
          },
          "colorway": [
           "#636efa",
           "#EF553B",
           "#00cc96",
           "#ab63fa",
           "#FFA15A",
           "#19d3f3",
           "#FF6692",
           "#B6E880",
           "#FF97FF",
           "#FECB52"
          ],
          "font": {
           "color": "#2a3f5f"
          },
          "geo": {
           "bgcolor": "white",
           "lakecolor": "white",
           "landcolor": "#E5ECF6",
           "showlakes": true,
           "showland": true,
           "subunitcolor": "white"
          },
          "hoverlabel": {
           "align": "left"
          },
          "hovermode": "closest",
          "mapbox": {
           "style": "light"
          },
          "paper_bgcolor": "white",
          "plot_bgcolor": "#E5ECF6",
          "polar": {
           "angularaxis": {
            "gridcolor": "white",
            "linecolor": "white",
            "ticks": ""
           },
           "bgcolor": "#E5ECF6",
           "radialaxis": {
            "gridcolor": "white",
            "linecolor": "white",
            "ticks": ""
           }
          },
          "scene": {
           "xaxis": {
            "backgroundcolor": "#E5ECF6",
            "gridcolor": "white",
            "gridwidth": 2,
            "linecolor": "white",
            "showbackground": true,
            "ticks": "",
            "zerolinecolor": "white"
           },
           "yaxis": {
            "backgroundcolor": "#E5ECF6",
            "gridcolor": "white",
            "gridwidth": 2,
            "linecolor": "white",
            "showbackground": true,
            "ticks": "",
            "zerolinecolor": "white"
           },
           "zaxis": {
            "backgroundcolor": "#E5ECF6",
            "gridcolor": "white",
            "gridwidth": 2,
            "linecolor": "white",
            "showbackground": true,
            "ticks": "",
            "zerolinecolor": "white"
           }
          },
          "shapedefaults": {
           "line": {
            "color": "#2a3f5f"
           }
          },
          "ternary": {
           "aaxis": {
            "gridcolor": "white",
            "linecolor": "white",
            "ticks": ""
           },
           "baxis": {
            "gridcolor": "white",
            "linecolor": "white",
            "ticks": ""
           },
           "bgcolor": "#E5ECF6",
           "caxis": {
            "gridcolor": "white",
            "linecolor": "white",
            "ticks": ""
           }
          },
          "title": {
           "x": 0.05
          },
          "xaxis": {
           "automargin": true,
           "gridcolor": "white",
           "linecolor": "white",
           "ticks": "",
           "title": {
            "standoff": 15
           },
           "zerolinecolor": "white",
           "zerolinewidth": 2
          },
          "yaxis": {
           "automargin": true,
           "gridcolor": "white",
           "linecolor": "white",
           "ticks": "",
           "title": {
            "standoff": 15
           },
           "zerolinecolor": "white",
           "zerolinewidth": 2
          }
         }
        },
        "title": {
         "text": "Feature importance"
        },
        "xaxis": {
         "anchor": "y",
         "domain": [
          0,
          1
         ],
         "title": {
          "text": "Feature"
         }
        },
        "yaxis": {
         "anchor": "x",
         "domain": [
          0,
          1
         ],
         "title": {
          "text": "Coefficient"
         }
        }
       }
      }
     },
     "metadata": {},
     "output_type": "display_data"
    }
   ],
   "source": [
    "import plotly.express as px\n",
    "\n",
    "coef = pd.Series(pipe[-1].coef_.ravel(), index=pipe[-1].feature_names_in_).sort_values()\n",
    "fig = px.bar(x=coef.index, y=coef.values, labels={'x': 'Feature', 'y': 'Coefficient'}, title='Feature importance')\n",
    "fig.show()"
   ]
  },
  {
   "cell_type": "markdown",
   "metadata": {},
   "source": [
    "### Model Comparison and Interpretability\n",
    "\n",
    "To compare the classification and regression models, I examined the learned coefficients from both `LogisticRegression` and `Lasso`. These coefficients reflect the relative importance of each feature in determining either the likelihood of default (classification) or the credit score (regression).\n",
    "\n",
    "---\n",
    "\n",
    "### Key Observations\n",
    "\n",
    "- **Shared influential features**: Variables such as `R_HEALTH`, `R_GAMBLING`, and `DEBT` had significant weights in both models, suggesting they are strong indicators of credit behavior overall.\n",
    "  \n",
    "- **Classification vs. regression signals**: The classification model placed more weight on **binary risk signals** (e.g., `CAT_DEBT`, `CAT_MORTGAGE`), whereas the regression model focused on **continuous financial indicators** like `INCOME`, `SAVINGS`, and derived ratios.\n",
    "\n",
    "- **Regularization effect in Lasso**: Many variables received zero or near-zero weights in the regression model, demonstrating Lasso’s effectiveness in eliminating weak predictors and enhancing model interpretability.\n",
    "\n",
    "- **Direction of impact**:\n",
    "  - Positive weights in the classification model increase the likelihood of default.\n",
    "  - Positive coefficients in the regression model indicate association with **higher** credit scores, while negative ones signal a **lower** score.\n",
    "\n",
    "---\n",
    "\n",
    "### Performance Summary\n",
    "\n",
    "- **Classification model (`LogisticRegression`)**  \n",
    "  - **Accuracy**: 0.725  \n",
    "  - **Recall**: 0.193  \n",
    "  - **Precision**: 0.550  \n",
    "  - **F1 Score**: 0.285  \n",
    "  \n",
    "  This model successfully identifies most non-default cases but struggles with recall, meaning it misses a large number of actual defaulters. However, the features it prioritizes can be useful for **flagging potential risks**.\n",
    "\n",
    "- **Regression model (`Lasso`)**  \n",
    "  - **MAE**: 30.50  \n",
    "  - **MSE**: 1928.38  \n",
    "  - **R² Score**: 0.535  \n",
    "  \n",
    "  This model can explain around 53% of the variance in credit scores, providing a **quantitative** risk profile rather than a binary one.\n",
    "\n",
    "---\n",
    "\n",
    "### Final Thoughts\n",
    "\n",
    "While both models share preprocessing steps like imputation, scaling, and encoding, they serve **distinct purposes**:\n",
    "\n",
    "- The **classification model** (`LogisticRegression`) is optimized for flagging whether an individual will default — a binary outcome.\n",
    "- The **regression model** (`Lasso`) aims to **quantify** creditworthiness via credit score prediction and reduces overfitting through feature regularization.\n",
    "\n",
    "Despite their differences, both offer **complementary insights**: classification models help identify risk categories, while regression models add precision by estimating creditworthiness on a continuous scale.\n",
    "\n",
    "These results serve as a baseline and highlight key areas to explore further, such as tree-based models or more advanced feature selection techniques."
   ]
  }
 ],
 "metadata": {
  "colab": {
   "collapsed_sections": [],
   "name": "Session I.ipynb",
   "provenance": []
  },
  "kernelspec": {
   "display_name": "Python 3",
   "language": "python",
   "name": "python3"
  },
  "language_info": {
   "codemirror_mode": {
    "name": "ipython",
    "version": 3
   },
   "file_extension": ".py",
   "mimetype": "text/x-python",
   "name": "python",
   "nbconvert_exporter": "python",
   "pygments_lexer": "ipython3",
   "version": "3.11.9"
  }
 },
 "nbformat": 4,
 "nbformat_minor": 4
}
